{
 "cells": [
  {
   "cell_type": "markdown",
   "metadata": {},
   "source": [
    "### ML lab 1 \n",
    "- Assignment on numpy and pandas. Recap concepts covered in class. <br>\n",
    "- Use 2 datasets. One cleaned, one uncleaned. <br>\n",
    "- Exploring all possible numpy operations on a specific dataset (2 of them) or creating a list or array with clear comments as per your observation and application-level understanding. <br>\n",
    "- Apply 10-15 numpy (if numerical) functions or pandas (if categorical) functions on the datasets, cleanly document your code and ensure clarity for any reader. <br>"
   ]
  },
  {
   "cell_type": "code",
   "execution_count": null,
   "metadata": {},
   "outputs": [],
   "source": [
    "# Test change made"
   ]
  }
 ],
 "metadata": {
  "language_info": {
   "name": "python"
  },
  "orig_nbformat": 4
 },
 "nbformat": 4,
 "nbformat_minor": 2
}
