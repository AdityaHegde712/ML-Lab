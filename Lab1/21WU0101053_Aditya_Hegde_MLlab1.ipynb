{
 "cells": [
  {
   "cell_type": "markdown",
   "metadata": {},
   "source": [
    "## ML lab 1 \n",
    "- Assignment on numpy and pandas. Recap concepts covered in class. <br>\n",
    "- Use 2 datasets. One cleaned, one uncleaned. <br>\n",
    "- Exploring all possible numpy operations on a specific dataset (2 of them) or creating a list or array with clear comments as per your observation and application-level understanding. <br>\n",
    "- Apply 10-15 numpy (if numerical) functions or pandas (if categorical) functions on the datasets, cleanly document your code and ensure clarity for any reader. <br>"
   ]
  },
  {
   "cell_type": "markdown",
   "metadata": {},
   "source": [
    "### Analysed the Datasets, these are the Tasks performed:"
   ]
  },
  {
   "cell_type": "markdown",
   "metadata": {},
   "source": [
    "### Dataset 1: AmazonReviewAnalysis.csv"
   ]
  },
  {
   "cell_type": "markdown",
   "metadata": {},
   "source": [
    "- AmazonReviewAnalysis.csv - Primarily text data, originally to be used for Hierarchical Analysis (further study needed). Tasks: \n",
    "    - Loading the dataset, \n",
    "    - check for missing values, \n",
    "    - description function, \n",
    "    - Examine if I can eliminate rows with missing values and doing so, \n",
    "    - eliminating duplicate entries, \n",
    "    - normalization by converting all text to lower case for uniformity, \n",
    "    - remove unnecessary spacing in columns,\n",
    "    - convert cat1, cat2, cat3 to numerical data for easier processing during an ML task, \n",
    "    - plot numerical score and count for distribution understanding and outliers,\n",
    "    - plot review length and count distribution to understand review sizes,\n",
    "    - Length vs score analysis to see if longer reviews are more negative or positive\n",
    "    - Average score given by repetitive reviewers\n",
    "\n"
   ]
  },
  {
   "cell_type": "markdown",
   "metadata": {},
   "source": [
    "All necessary imports complete:"
   ]
  },
  {
   "cell_type": "code",
   "execution_count": 46,
   "metadata": {},
   "outputs": [],
   "source": [
    "# Required imports and initializations\n",
    "import pandas as pd\n",
    "from sklearn.preprocessing import LabelEncoder as l\n",
    "from matplotlib import pyplot as plt\n",
    "import seaborn as sns\n",
    "import numpy as np\n",
    "le = l()"
   ]
  },
  {
   "cell_type": "markdown",
   "metadata": {},
   "source": [
    "<br><br>Data Frame successfully created from csv file."
   ]
  },
  {
   "cell_type": "code",
   "execution_count": 47,
   "metadata": {},
   "outputs": [],
   "source": [
    "# Task 1: Load the dataset\n",
    "df = pd.read_csv(\"AmazonReviewAnalysis.csv\")"
   ]
  },
  {
   "cell_type": "markdown",
   "metadata": {},
   "source": [
    "<br><br>Null values found and noted for later cleaning."
   ]
  },
  {
   "cell_type": "code",
   "execution_count": 48,
   "metadata": {},
   "outputs": [
    {
     "name": "stdout",
     "output_type": "stream",
     "text": [
      "The dataset has:\n",
      "productId      0\n",
      "Title          5\n",
      "userId         0\n",
      "Helpfulness    0\n",
      "Score          0\n",
      "Time           0\n",
      "Text           0\n",
      "Cat1           0\n",
      "Cat2           0\n",
      "Cat3           0\n",
      "dtype: int64 null values\n"
     ]
    }
   ],
   "source": [
    "# Task 2: Check for Missing values\n",
    "print(f\"The dataset has:\\n{df.isnull().sum()} null values\")\n"
   ]
  },
  {
   "cell_type": "markdown",
   "metadata": {},
   "source": [
    "<br><br>General idea of values observed as above, as part of studying the dataset."
   ]
  },
  {
   "cell_type": "code",
   "execution_count": 49,
   "metadata": {},
   "outputs": [
    {
     "name": "stdout",
     "output_type": "stream",
     "text": [
      "              Score          Time\n",
      "count  10000.000000  1.000000e+04\n",
      "mean       4.216700  1.355203e+09\n",
      "std        1.273068  4.566215e+06\n",
      "min        1.000000  1.344211e+09\n",
      "25%        4.000000  1.352592e+09\n",
      "50%        5.000000  1.356394e+09\n",
      "75%        5.000000  1.358640e+09\n",
      "max        5.000000  1.362269e+09\n"
     ]
    }
   ],
   "source": [
    "# Task 3: Examine description of the dataset\n",
    "print(df.describe()) "
   ]
  },
  {
   "cell_type": "markdown",
   "metadata": {},
   "source": [
    "<br><br>Any duplicate values are now removed. Only unique values will be worked with to avoid miscalculations."
   ]
  },
  {
   "cell_type": "code",
   "execution_count": 50,
   "metadata": {},
   "outputs": [],
   "source": [
    "# Task 4: Eliminating any duplicate entries\n",
    "df.drop_duplicates(inplace=True)"
   ]
  },
  {
   "cell_type": "markdown",
   "metadata": {},
   "source": [
    "<br><br>Since only 5 null values, not much effect to a dataset with more than 10000 entries. Better if removed."
   ]
  },
  {
   "cell_type": "code",
   "execution_count": 51,
   "metadata": {},
   "outputs": [],
   "source": [
    "# Task 5: Drop missing values\n",
    "df.dropna(inplace=True)"
   ]
  },
  {
   "cell_type": "markdown",
   "metadata": {},
   "source": [
    "<br><br>Successfully converted text to lowercase and removed unnecessary spaces."
   ]
  },
  {
   "cell_type": "code",
   "execution_count": 52,
   "metadata": {},
   "outputs": [],
   "source": [
    "# Task 6: Normalizing text for uniformity during later tasks, such as any language processing or text classification in future. \n",
    "for column in df.columns:\n",
    "    if df[column].dtype == 'object':\n",
    "        df[column] = df[column].str.lower()\n",
    "        df[column] = df[column].str.strip()"
   ]
  },
  {
   "cell_type": "markdown",
   "metadata": {},
   "source": [
    "<br><br>Based on the below plot, it is clear that reviews with 5.0 are in an overwhelming majority, suggesting that most people are happy with their products."
   ]
  },
  {
   "cell_type": "code",
   "execution_count": 53,
   "metadata": {},
   "outputs": [
    {
     "name": "stdout",
     "output_type": "stream",
     "text": [
      "Score\n",
      "1.0     846\n",
      "2.0     470\n",
      "3.0     768\n",
      "4.0    1502\n",
      "5.0    6409\n",
      "dtype: int64\n"
     ]
    }
   ],
   "source": [
    "# Task 7: Find frequency of each score\n",
    "print(df.groupby('Score').size())"
   ]
  },
  {
   "cell_type": "markdown",
   "metadata": {},
   "source": [
    "<br><br>Based on the below result, clearly most reviews are between 0 and 500 characters roughly."
   ]
  },
  {
   "cell_type": "code",
   "execution_count": 54,
   "metadata": {},
   "outputs": [
    {
     "name": "stdout",
     "output_type": "stream",
     "text": [
      "0       309\n",
      "1       104\n",
      "2       233\n",
      "3       217\n",
      "4       357\n",
      "       ... \n",
      "9995    216\n",
      "9996    113\n",
      "9997    162\n",
      "9998    460\n",
      "9999    605\n",
      "Name: Review Lengths, Length: 9995, dtype: int64\n"
     ]
    },
    {
     "data": {
      "image/png": "[encoded data removed]",
      "text/plain": [
       "<Figure size 640x480 with 1 Axes>"
      ]
     },
     "metadata": {},
     "output_type": "display_data"
    }
   ],
   "source": [
    "# Task 8: Inspecting ranges of review lengths\n",
    "\n",
    "plt.hist((df['Text'].apply(len)), bins='auto', width=25)\n",
    "plt.title(\"Review Length Inspection\")\n",
    "plt.xlabel('Review Length')\n",
    "plt.ylabel('Count')\n",
    "\n",
    "df['Review Lengths'] = df['Text'].apply(len)\n",
    "print(df['Review Lengths'])"
   ]
  },
  {
   "cell_type": "markdown",
   "metadata": {},
   "source": [
    "<br><br>Based on the average score of each category, we know which categories and subcategories are more popular."
   ]
  },
  {
   "cell_type": "code",
   "execution_count": 55,
   "metadata": {},
   "outputs": [
    {
     "name": "stdout",
     "output_type": "stream",
     "text": [
      "Cat1\n",
      "baby products           4.163324\n",
      "beauty                  4.221077\n",
      "grocery gourmet food    4.219048\n",
      "health personal care    4.218614\n",
      "pet supplies            4.207487\n",
      "toys games              4.234792\n",
      "Name: Score, dtype: float64 \n",
      "--------------------\n",
      "Cat2\n",
      "action toy figures         4.382609\n",
      "arts crafts                4.242424\n",
      "baby child care            4.378378\n",
      "baby food                  3.000000\n",
      "baby toddler toys          4.330935\n",
      "                             ...   \n",
      "strollers                  4.454545\n",
      "stuffed animals plush      4.496894\n",
      "tools accessories          4.168831\n",
      "tricycles                  4.627451\n",
      "vehicles remote control    4.413333\n",
      "Name: Score, Length: 64, dtype: float64 \n",
      "--------------------\n",
      "Cat3\n",
      "accessories                      4.108108\n",
      "action toy figures               4.000000\n",
      "activity centers entertainers    4.181818\n",
      "activity play centers            4.500000\n",
      "adult toys games                 3.836735\n",
      "                                   ...   \n",
      "weight loss products             3.347826\n",
      "wind up toys                     3.000000\n",
      "wipes holders                    4.250000\n",
      "women s                          4.279720\n",
      "women s health                   3.944444\n",
      "Name: Score, Length: 377, dtype: float64\n"
     ]
    }
   ],
   "source": [
    "# Task 9: Finding the average scores for each level of category.\n",
    "print(df.groupby('Cat1')['Score'].mean(), \"\\n--------------------\")\n",
    "print(df.groupby('Cat2')['Score'].mean(), \"\\n--------------------\")\n",
    "print(df.groupby('Cat3')['Score'].mean())"
   ]
  },
  {
   "cell_type": "code",
   "execution_count": 56,
   "metadata": {},
   "outputs": [
    {
     "name": "stdout",
     "output_type": "stream",
     "text": [
      "0       4\n",
      "1       4\n",
      "2       3\n",
      "3       2\n",
      "4       4\n",
      "       ..\n",
      "9995    3\n",
      "9996    4\n",
      "9997    4\n",
      "9998    4\n",
      "9999    3\n",
      "Name: Cat1, Length: 9995, dtype: int32\n"
     ]
    }
   ],
   "source": [
    "# Task 10: Converting categories to numerical data for later classification and analysis. \n",
    "attributes = ['Cat1', 'Cat2', 'Cat3']\n",
    "for i in attributes:\n",
    "    df[i] = le.fit_transform(df[i])\n",
    "print(df['Cat1'])"
   ]
  },
  {
   "cell_type": "markdown",
   "metadata": {},
   "source": [
    "Data successfully converted so that categories are now numerical."
   ]
  },
  {
   "cell_type": "markdown",
   "metadata": {},
   "source": [
    "<br><br>\n",
    "### Dataset 2: cancer patient data sets.csv\n",
    "- Cancer Patient Data Sets.csv - Primarily numerical data, clean, used for lung cancer analysis. Tasks:\n",
    "    - Average age to see which ages are at risk\n",
    "    - Average cancer levels\n",
    "    - Gender count to check which gender might be more at risk\n",
    "    - Since air pollution can heighten already existing genetic risks, we could explore this relationship\n",
    "    - Median chronic lung disease number\n",
    "    - Check for a relationship between obesity and cancer if any\n",
    "    - Identify range of alcohol consumption in cancer patients to figure out if higher-than-average alcohol increases lung cancer risks\n",
    "    - Standard deviation of weight loss to identify weight loss range in patients. This is because weight loss may be associated with lung cancer and allow early diagnosis. "
   ]
  },
  {
   "cell_type": "markdown",
   "metadata": {},
   "source": [
    "Necessary Imports:"
   ]
  },
  {
   "cell_type": "code",
   "execution_count": 57,
   "metadata": {},
   "outputs": [],
   "source": [
    "import numpy as np\n",
    "import pandas as pd"
   ]
  },
  {
   "cell_type": "markdown",
   "metadata": {},
   "source": [
    "Loading the dataset:"
   ]
  },
  {
   "cell_type": "code",
   "execution_count": 58,
   "metadata": {},
   "outputs": [],
   "source": [
    "df2 = pd.read_csv(\"cancer patient data sets.csv\")"
   ]
  },
  {
   "cell_type": "markdown",
   "metadata": {},
   "source": [
    "Each Age along with its frequency in the dataset to identify which ages might be more at risk. We come to the conclusion that 35 is the riskiest."
   ]
  },
  {
   "cell_type": "code",
   "execution_count": 59,
   "metadata": {},
   "outputs": [
    {
     "name": "stdout",
     "output_type": "stream",
     "text": [
      "14 : 9\n",
      "17 : 20\n",
      "18 : 18\n",
      "19 : 20\n",
      "22 : 19\n",
      "23 : 19\n",
      "24 : 30\n",
      "25 : 30\n",
      "26 : 37\n",
      "27 : 48\n",
      "28 : 32\n",
      "29 : 19\n",
      "31 : 9\n",
      "32 : 31\n",
      "33 : 69\n",
      "34 : 10\n",
      "35 : 77\n",
      "36 : 21\n",
      "37 : 51\n",
      "38 : 69\n",
      "39 : 21\n",
      "42 : 20\n",
      "43 : 1\n",
      "44 : 51\n",
      "45 : 42\n",
      "46 : 23\n",
      "47 : 20\n",
      "48 : 40\n",
      "49 : 10\n",
      "51 : 1\n",
      "52 : 31\n",
      "53 : 19\n",
      "54 : 1\n",
      "55 : 11\n",
      "61 : 10\n",
      "62 : 30\n",
      "63 : 1\n",
      "64 : 10\n",
      "65 : 10\n",
      "73 : 10\n"
     ]
    }
   ],
   "source": [
    "ages = df2['Age'].values\n",
    "a, b = np.unique(ages, return_counts=True)\n",
    "frequencies = dict(zip(a, b))\n",
    "for i, j in frequencies.items():\n",
    "    print(f\"{i} : {j}\")"
   ]
  },
  {
   "cell_type": "markdown",
   "metadata": {},
   "source": [
    "Gender Count to check which gender is more at risk:"
   ]
  },
  {
   "cell_type": "code",
   "execution_count": 60,
   "metadata": {},
   "outputs": [
    {
     "name": "stdout",
     "output_type": "stream",
     "text": [
      "1 : 598\n",
      "2 : 402\n"
     ]
    }
   ],
   "source": [
    "genders = df2['Gender'].values\n",
    "a, b = np.unique(genders, return_counts=True)\n",
    "frequencies = dict(zip(a, b))\n",
    "for i, j in frequencies.items():\n",
    "    print(f\"{i} : {j}\")"
   ]
  },
  {
   "cell_type": "markdown",
   "metadata": {},
   "source": [
    "Examining air pollution correlation to identify possible environment factors:"
   ]
  },
  {
   "cell_type": "code",
   "execution_count": 61,
   "metadata": {},
   "outputs": [
    {
     "name": "stdout",
     "output_type": "stream",
     "text": [
      "0.7052760643034212\n"
     ]
    }
   ],
   "source": [
    "pollution = df2['Air Pollution'].values\n",
    "risk = df2['Genetic Risk'].values\n",
    "correlation = np.corrcoef(pollution, risk)[0, 1]\n",
    "print(correlation)"
   ]
  },
  {
   "cell_type": "markdown",
   "metadata": {},
   "source": [
    "Median Chronic Lung diseases to check prevalence of this characteristic in cancer patients"
   ]
  },
  {
   "cell_type": "code",
   "execution_count": 62,
   "metadata": {},
   "outputs": [
    {
     "name": "stdout",
     "output_type": "stream",
     "text": [
      "4.0\n"
     ]
    }
   ],
   "source": [
    "median = np.median(df2['chronic Lung Disease'].values)\n",
    "print(median)"
   ]
  },
  {
   "cell_type": "markdown",
   "metadata": {},
   "source": [
    "Percentage of patients who are obese to check for any possible correlation:"
   ]
  },
  {
   "cell_type": "code",
   "execution_count": 63,
   "metadata": {},
   "outputs": [
    {
     "name": "stdout",
     "output_type": "stream",
     "text": [
      "446.5\n"
     ]
    }
   ],
   "source": [
    "obesity = df2['Obesity']\n",
    "print(np.mean(obesity) * 100)"
   ]
  },
  {
   "cell_type": "markdown",
   "metadata": {},
   "source": [
    "Checking alcohol consumption for possible correlation between alcoholism and cancer:"
   ]
  },
  {
   "cell_type": "code",
   "execution_count": 64,
   "metadata": {},
   "outputs": [
    {
     "name": "stdout",
     "output_type": "stream",
     "text": [
      "Maximum consumption: 8 \n",
      "Minimum consumption: 1\n"
     ]
    }
   ],
   "source": [
    "alc = df2['Alcohol use'].values\n",
    "print(f\"Maximum consumption: {np.max(alc)} \\nMinimum consumption: {np.min(alc)}\")"
   ]
  },
  {
   "cell_type": "markdown",
   "metadata": {},
   "source": [
    "Standard Deviation of weight loss to figure out variability of weight loss in cancer patients:"
   ]
  },
  {
   "cell_type": "code",
   "execution_count": 65,
   "metadata": {},
   "outputs": [
    {
     "name": "stdout",
     "output_type": "stream",
     "text": [
      "2.205442132543949\n"
     ]
    }
   ],
   "source": [
    "weight_loss = df2['Weight Loss'].values\n",
    "std = np.std(weight_loss)\n",
    "print(std)"
   ]
  },
  {
   "cell_type": "markdown",
   "metadata": {},
   "source": [
    "Average Cancer level in this dataset:"
   ]
  },
  {
   "cell_type": "code",
   "execution_count": 66,
   "metadata": {},
   "outputs": [
    {
     "name": "stdout",
     "output_type": "stream",
     "text": [
      "0      1\n",
      "1      2\n",
      "2      0\n",
      "3      0\n",
      "4      0\n",
      "      ..\n",
      "995    0\n",
      "996    0\n",
      "997    0\n",
      "998    0\n",
      "999    0\n",
      "Name: Level, Length: 1000, dtype: int32\n",
      "Average cancer level: 0.967\n"
     ]
    }
   ],
   "source": [
    "df2['Level'] = le.fit_transform(df2['Level'])\n",
    "print(df2['Level'])\n",
    "print(f\"Average cancer level: {np.mean(df2['Level'].values)}\")"
   ]
  }
 ],
 "metadata": {
  "kernelspec": {
   "display_name": "Python 3",
   "language": "python",
   "name": "python3"
  },
  "language_info": {
   "codemirror_mode": {
    "name": "ipython",
    "version": 3
   },
   "file_extension": ".py",
   "mimetype": "text/x-python",
   "name": "python",
   "nbconvert_exporter": "python",
   "pygments_lexer": "ipython3",
   "version": "3.11.4"
  },
  "orig_nbformat": 4
 },
 "nbformat": 4,
 "nbformat_minor": 2
}
