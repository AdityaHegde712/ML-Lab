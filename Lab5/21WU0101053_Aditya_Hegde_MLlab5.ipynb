{
 "cells": [
  {
   "cell_type": "markdown",
   "metadata": {},
   "source": [
    "## Design 2D CNN Classification\n",
    "### 1. One existing standard dataset from \"NHIST\", CIFAR10, CIFAR100, NHIST-Fashion\n",
    "### 2. Second should be a custom dataset (you design your own by taking pics from mobile or something, any multi-classification problem). Apply data augmentation, increase overall samples, apply same CNN model on this. \n",
    "\n",
    "#### Sub-tasks:\n",
    "1. Comparative study with different hyperparameters (learning rate, epochs, batch size, optimizer, activation function, convo layer numbers, regularizer/dropout). Also train acc, train loss, val acc, val loss. \n",
    "2. Have a plot of accuracies and losses. \n",
    "3. Use CSVLogger class from keras if tensorflow"
   ]
  },
  {
   "cell_type": "code",
   "execution_count": null,
   "metadata": {},
   "outputs": [],
   "source": []
  }
 ],
 "metadata": {
  "language_info": {
   "name": "python"
  }
 },
 "nbformat": 4,
 "nbformat_minor": 2
}
