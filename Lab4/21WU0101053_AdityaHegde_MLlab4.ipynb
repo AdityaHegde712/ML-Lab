{
 "cells": [
  {
   "cell_type": "markdown",
   "metadata": {},
   "source": [
    "# Question\n",
    "1. Use RAND to generate synthetic dataset\n",
    "2. Choose any ANN dataset kaggle or uci machine learning repository\n",
    "\n",
    "For both, \n",
    "1. Implement step-by-step for each with a standard set of weights etc\n",
    "2. Show tabular representation of hyperparameters as they are tuned at the end. Use CSVLogger code from earlier\n",
    "\n",
    "Note: <br>\n",
    "Decide activation functions as well, and define the neural network architecture <br>\n",
    "Define weights etc, create sub functions for forward and backward propagations <br>\n",
    "Set a number of iterations and run through the architecture accordingly <br>"
   ]
  },
  {
   "cell_type": "markdown",
   "metadata": {},
   "source": [
    "#### Imports"
   ]
  },
  {
   "cell_type": "code",
   "execution_count": 1,
   "metadata": {},
   "outputs": [],
   "source": [
    "import numpy as np\n",
    "import pandas as pd\n",
    "import matplotlib.pyplot as plt\n",
    "from sklearn.preprocessing import LabelEncoder\n",
    "from sklearn.model_selection import train_test_split\n",
    "from sklearn.datasets import make_classification\n",
    "from sklearn.metrics import accuracy_score\n",
    "from ucimlrepo import fetch_ucirepo \n",
    "import sys"
   ]
  },
  {
   "cell_type": "markdown",
   "metadata": {},
   "source": [
    "#### ANN Definition"
   ]
  },
  {
   "cell_type": "code",
   "execution_count": 2,
   "metadata": {},
   "outputs": [],
   "source": [
    "class ANN2():\n",
    "    # Creating an object will initialize the network\n",
    "    def __init__(self, n_input_cols, n_hidden, n_output_cols):\n",
    "        self.network = list()\n",
    "        hidden_layer = [{'weights':[np.random.uniform(low=-0.1, high=0.1) for _ in range(n_input_cols + 1)]} for _ in range(n_hidden)]\n",
    "        self.network.append(hidden_layer)\n",
    "        output_layer = [{'weights':[np.random.uniform(low=-1, high=0.1) for _ in range(n_hidden + 1)]} for _ in range(n_output_cols)]\n",
    "        self.network.append(output_layer)\n",
    "        self.errors = []\n",
    "\n",
    "\n",
    "    def forward_propagate(self, row):\n",
    "        def activate(weights, inputs):\n",
    "            activation = weights[-1]\n",
    "            for i in range(len(weights) - 1):\n",
    "                activation += weights[i] * inputs[i]\n",
    "            return activation\n",
    "\n",
    "        def neuron_transfer(activation):\n",
    "            return 1/(1 + np.exp(-activation))\n",
    "        \n",
    "        inputs = row\n",
    "        for layer in self.network:\n",
    "            new_input = []\n",
    "            for neuron in layer:\n",
    "                activation = activate(neuron['weights'], inputs)\n",
    "                neuron['output'] = neuron_transfer(activation)\n",
    "                new_input.append(neuron['output'])\n",
    "            inputs = new_input\n",
    "        return inputs\n",
    "    \n",
    "\n",
    "    def backward_propagate(self, expected): # Expected is basically the actual output you are supposed to get\n",
    "        def transfer_derivative(output):\n",
    "            return output * (1 - output)\n",
    "        \n",
    "        for i in reversed(range(len(self.network))):\n",
    "            layer = self.network[i]\n",
    "            errors = []\n",
    "            if i != len(self.network) - 1:\n",
    "                for j in range(len(layer)):\n",
    "                    error = 0.0\n",
    "                    for neuron in self.network[i + 1]:\n",
    "                        error += (neuron['weights'][j] * neuron['delta'])\n",
    "                    errors.append(error)\n",
    "            else:\n",
    "                for j in range(len(layer)):\n",
    "                    neuron = layer[j]\n",
    "                    errors.append(neuron['output'] - expected[j])\n",
    "            for j in range(len(layer)):\n",
    "                neuron = layer[j]\n",
    "                neuron['delta'] = errors[j] * transfer_derivative(neuron['output'])\n",
    "        \n",
    "\n",
    "    # Update network weights with error\n",
    "    def update_weights(self, row, l_rate):\n",
    "        for i in range(len(self.network)):\n",
    "            inputs = row[:-1]\n",
    "            if i != 0:\n",
    "                inputs = [neuron['output'] for neuron in self.network[i - 1]]\n",
    "            for neuron in self.network[i]:\n",
    "                for j in range(len(inputs)):\n",
    "                    neuron['weights'][j] -= l_rate * neuron['delta'] * inputs[j]\n",
    "                neuron['weights'][-1] -= l_rate * neuron['delta']\n",
    "\n",
    "    \n",
    "    def train_network(self, x_train, y_train, l_rate, n_epoch):\n",
    "        for epoch in range(n_epoch):\n",
    "            sum_error = 0\n",
    "            for i in range(len(x_train)):\n",
    "                row = x_train[i]\n",
    "                expected = [y_train[i]]\n",
    "                outputs = [0 if elem < 0.5 else 1 for elem in self.forward_propagate(row)]\n",
    "                sum_error += sum([(expected[j] - outputs[j])**2 for j in range(len(expected))])\n",
    "                self.backward_propagate(expected)\n",
    "                self.update_weights(row, l_rate)\n",
    "            print('>epoch=%d, lrate=%.3f, error=%.3f' % (epoch, l_rate, sum_error))\n",
    "            self.errors.append(sum_error)\n",
    "\n",
    "\n",
    "    def predict(self, x_test):\n",
    "        predictions = []\n",
    "        for i in range(len(x_test)):\n",
    "            predicted = [0 if elem < 0.5 else 1 for elem in self.forward_propagate(x_test[i])][0]\n",
    "            predictions.append(predicted)\n",
    "        return predictions\n",
    "    \n",
    "\n",
    "    def get_losses(self):\n",
    "        return {index + 1: value for index, value in enumerate(self.errors)}"
   ]
  },
  {
   "cell_type": "markdown",
   "metadata": {},
   "source": [
    "#### Synthetic Dataset ANN"
   ]
  },
  {
   "cell_type": "code",
   "execution_count": 3,
   "metadata": {},
   "outputs": [],
   "source": [
    "n_samples = 13000\n",
    "n_features = 10\n",
    "n_classes = 2\n",
    "\n",
    "x_syn, y_syn = make_classification(n_samples=n_samples, n_features=n_features, n_classes=n_classes, n_informative=6, n_redundant=4, random_state=42)\n",
    "\n",
    "x_train, x_test, y_train, y_test = train_test_split(x_syn, y_syn, test_size=0.2, random_state=42)"
   ]
  },
  {
   "cell_type": "code",
   "execution_count": 14,
   "metadata": {},
   "outputs": [
    {
     "name": "stdout",
     "output_type": "stream",
     "text": [
      "Type of x_syn: <class 'numpy.ndarray'>\n",
      "Type of y_syn: <class 'numpy.ndarray'>\n",
      "Type of x_train: <class 'numpy.ndarray'>\n",
      "Type of y_train: <class 'numpy.ndarray'>\n",
      "Type of x_test: <class 'numpy.ndarray'>\n",
      "Type of y_test: <class 'numpy.ndarray'>\n"
     ]
    }
   ],
   "source": [
    "print(f\"Type of x_syn: {type(x_syn)}\")\n",
    "print(f\"Type of y_syn: {type(y_syn)}\")\n",
    "print(f\"Type of x_train: {type(x_train)}\")\n",
    "print(f\"Type of y_train: {type(y_train)}\")\n",
    "print(f\"Type of x_test: {type(x_test)}\")\n",
    "print(f\"Type of y_test: {type(y_test)}\")\n"
   ]
  },
  {
   "cell_type": "code",
   "execution_count": 4,
   "metadata": {},
   "outputs": [
    {
     "name": "stdout",
     "output_type": "stream",
     "text": [
      "x_train: [[-0.3110995   2.18462133  3.42196666 ...  0.66537774 -0.70254578\n",
      "  -1.34749087]\n",
      " [-0.12046178 -1.73579281 -0.15732492 ... -2.01537707 -2.56442496\n",
      "   0.76023089]\n",
      " [ 0.25901105  0.58591875  0.05010231 ... -1.93651199 -0.96094213\n",
      "   0.36662782]\n",
      " ...\n",
      " [-0.20935513 -7.29099344 -1.08270936 ... -4.37675085 -5.11372034\n",
      "   0.41436343]\n",
      " [ 1.6494282  -1.75097001  0.48884464 ...  1.29178858  0.18205233\n",
      "   0.46244445]\n",
      " [-2.46431273  1.63448217  0.58959584 ...  0.69570245  0.2169796\n",
      "  -1.24169359]]\n",
      "\n",
      "x_test: [[ 0.06408119 -1.85192998 -1.77559159 ... -1.45402449 -2.1617139\n",
      "   2.90802802]\n",
      " [-0.23975098  0.16820606  2.95557281 ...  1.61260958 -0.46045393\n",
      "  -1.68833511]\n",
      " [ 1.17033043 -0.65931264 -0.44239301 ... -2.64879547  0.29253138\n",
      "  -0.65008547]\n",
      " ...\n",
      " [ 1.45651522 -0.78050477 -0.94920357 ... -2.64040557 -1.20222112\n",
      "   1.44662561]\n",
      " [ 0.45932659 -1.1469953  -0.0469454  ...  1.28466471 -0.82050841\n",
      "   1.39327283]\n",
      " [-0.69760811  0.38550029  0.51962115 ...  1.6233202   1.1187577\n",
      "  -0.66374285]]\n",
      "\n",
      "y_train: [1 0 1 ... 0 0 1]\n",
      "\n",
      "y_test: [1 1 1 ... 1 0 1]\n"
     ]
    }
   ],
   "source": [
    "print(f\"x_train: {x_train}\")\n",
    "print(f\"\\nx_test: {x_test}\")\n",
    "print(f\"\\ny_train: {y_train}\")\n",
    "print(f\"\\ny_test: {y_test}\")\n"
   ]
  },
  {
   "cell_type": "code",
   "execution_count": 5,
   "metadata": {},
   "outputs": [
    {
     "name": "stdout",
     "output_type": "stream",
     "text": [
      "Hidden Layer:\n",
      "11 {'weights': [0.009762700785464956, 0.043037873274483884, 0.02055267521432877, 0.008976636599379376, -0.015269040132219053, 0.029178822613331212, -0.0124825577474615, 0.07835460015641596, 0.09273255210020587, -0.023311696234844456, 0.05834500761653291]}\n",
      "11 {'weights': [0.005778983950580893, 0.013608912218786462, 0.08511932765853222, -0.08579278836042262, -0.08257414005969187, -0.09595632051193487, 0.0665239691095876, 0.05563135018997009, 0.07400242964936385, 0.0957236684465528, 0.059831712843344736]}\n",
      "11 {'weights': [-0.007704127549413631, 0.0561058352572911, -0.07634511482621337, 0.02798420426550477, -0.07132934251819073, 0.08893378340991678, 0.004369664350014332, -0.017067612001895285, -0.04708887757907461, 0.05484673788684333, -0.008769933556690285]}\n",
      "11 {'weights': [0.013686789773729696, -0.09624203991272898, 0.023527099415175418, 0.02241914454448428, 0.02338679937495139, 0.08874961570292483, 0.03636405982069668, -0.028098419885242795, -0.012593609240131712, 0.03952623918545298, -0.08795490567414604]}\n",
      "11 {'weights': [0.03335334308913354, 0.03412757392363189, -0.05792348778523182, -0.07421474046902934, -0.036914329815163224, -0.027257845811475487, 0.014039354083575928, -0.012279697307535933, 0.09767476761184524, -0.0795910378503944, -0.05822464878103306]}\n",
      "11 {'weights': [-0.06773809642300074, 0.030621665093079675, -0.04934167949204358, -0.006737845428738745, -0.05111488159967945, -0.06820608327089606, -0.07792497176713897, 0.03126591789305469, -0.07236340973027724, -0.0606835276639893, -0.02625496586780718]}\n",
      "11 {'weights': [0.06419864596958702, -0.08057974484138775, 0.06758898149976078, -0.08078031842120739, 0.09529189300267915, -0.0062697596704596875, 0.09535221763806742, 0.020969103949009193, 0.047852715879660335, -0.09216244154913587, -0.04343860748471809]}\n",
      "\n",
      "Output Layer:\n",
      "8 {'weights': [-0.8677837826655141, -0.6742457827256405, -0.8693995091503315, -0.6502185026666263, -0.544310706033863, -0.9294377540163372, -0.23828066869297815, -0.3767384003727673]}\n",
      ">epoch=0, lrate=0.010, error=2701.000\n",
      ">epoch=1, lrate=0.010, error=1791.000\n",
      ">epoch=2, lrate=0.010, error=1698.000\n",
      ">epoch=3, lrate=0.010, error=1636.000\n",
      ">epoch=4, lrate=0.010, error=1604.000\n",
      ">epoch=5, lrate=0.010, error=1565.000\n",
      ">epoch=6, lrate=0.010, error=1527.000\n",
      ">epoch=7, lrate=0.010, error=1510.000\n",
      ">epoch=8, lrate=0.010, error=1499.000\n",
      ">epoch=9, lrate=0.010, error=1486.000\n",
      ">epoch=10, lrate=0.010, error=1476.000\n",
      ">epoch=11, lrate=0.010, error=1465.000\n",
      ">epoch=12, lrate=0.010, error=1456.000\n",
      ">epoch=13, lrate=0.010, error=1436.000\n",
      ">epoch=14, lrate=0.010, error=1420.000\n",
      ">epoch=15, lrate=0.010, error=1403.000\n",
      ">epoch=16, lrate=0.010, error=1383.000\n",
      ">epoch=17, lrate=0.010, error=1366.000\n",
      ">epoch=18, lrate=0.010, error=1352.000\n",
      ">epoch=19, lrate=0.010, error=1336.000\n",
      ">epoch=20, lrate=0.010, error=1319.000\n",
      ">epoch=21, lrate=0.010, error=1308.000\n",
      ">epoch=22, lrate=0.010, error=1291.000\n",
      ">epoch=23, lrate=0.010, error=1288.000\n",
      ">epoch=24, lrate=0.010, error=1281.000\n",
      ">epoch=25, lrate=0.010, error=1270.000\n",
      ">epoch=26, lrate=0.010, error=1263.000\n",
      ">epoch=27, lrate=0.010, error=1246.000\n",
      ">epoch=28, lrate=0.010, error=1235.000\n",
      ">epoch=29, lrate=0.010, error=1225.000\n",
      ">epoch=30, lrate=0.010, error=1208.000\n",
      ">epoch=31, lrate=0.010, error=1198.000\n",
      ">epoch=32, lrate=0.010, error=1187.000\n",
      ">epoch=33, lrate=0.010, error=1181.000\n",
      ">epoch=34, lrate=0.010, error=1168.000\n",
      ">epoch=35, lrate=0.010, error=1161.000\n",
      ">epoch=36, lrate=0.010, error=1158.000\n",
      ">epoch=37, lrate=0.010, error=1152.000\n",
      ">epoch=38, lrate=0.010, error=1152.000\n",
      ">epoch=39, lrate=0.010, error=1145.000\n",
      ">epoch=40, lrate=0.010, error=1145.000\n",
      ">epoch=41, lrate=0.010, error=1145.000\n",
      ">epoch=42, lrate=0.010, error=1138.000\n",
      ">epoch=43, lrate=0.010, error=1134.000\n",
      ">epoch=44, lrate=0.010, error=1130.000\n",
      ">epoch=45, lrate=0.010, error=1124.000\n",
      ">epoch=46, lrate=0.010, error=1120.000\n",
      ">epoch=47, lrate=0.010, error=1117.000\n",
      ">epoch=48, lrate=0.010, error=1112.000\n",
      ">epoch=49, lrate=0.010, error=1117.000\n",
      ">epoch=50, lrate=0.010, error=1115.000\n",
      ">epoch=51, lrate=0.010, error=1107.000\n",
      ">epoch=52, lrate=0.010, error=1106.000\n",
      ">epoch=53, lrate=0.010, error=1099.000\n",
      ">epoch=54, lrate=0.010, error=1095.000\n",
      ">epoch=55, lrate=0.010, error=1080.000\n",
      ">epoch=56, lrate=0.010, error=1081.000\n",
      ">epoch=57, lrate=0.010, error=1077.000\n",
      ">epoch=58, lrate=0.010, error=1072.000\n",
      ">epoch=59, lrate=0.010, error=1068.000\n",
      ">epoch=60, lrate=0.010, error=1067.000\n",
      ">epoch=61, lrate=0.010, error=1063.000\n",
      ">epoch=62, lrate=0.010, error=1053.000\n",
      ">epoch=63, lrate=0.010, error=1052.000\n",
      ">epoch=64, lrate=0.010, error=1042.000\n",
      ">epoch=65, lrate=0.010, error=1037.000\n",
      ">epoch=66, lrate=0.010, error=1038.000\n",
      ">epoch=67, lrate=0.010, error=1040.000\n",
      ">epoch=68, lrate=0.010, error=1033.000\n",
      ">epoch=69, lrate=0.010, error=1030.000\n",
      ">epoch=70, lrate=0.010, error=1030.000\n",
      ">epoch=71, lrate=0.010, error=1027.000\n",
      ">epoch=72, lrate=0.010, error=1027.000\n",
      ">epoch=73, lrate=0.010, error=1026.000\n",
      ">epoch=74, lrate=0.010, error=1023.000\n",
      ">epoch=75, lrate=0.010, error=1015.000\n",
      ">epoch=76, lrate=0.010, error=1017.000\n",
      ">epoch=77, lrate=0.010, error=1013.000\n",
      ">epoch=78, lrate=0.010, error=1012.000\n",
      ">epoch=79, lrate=0.010, error=1012.000\n",
      ">epoch=80, lrate=0.010, error=1007.000\n",
      ">epoch=81, lrate=0.010, error=1003.000\n",
      ">epoch=82, lrate=0.010, error=1002.000\n",
      ">epoch=83, lrate=0.010, error=1002.000\n",
      ">epoch=84, lrate=0.010, error=1005.000\n",
      ">epoch=85, lrate=0.010, error=1003.000\n",
      ">epoch=86, lrate=0.010, error=1001.000\n",
      ">epoch=87, lrate=0.010, error=1004.000\n",
      ">epoch=88, lrate=0.010, error=1000.000\n",
      ">epoch=89, lrate=0.010, error=1000.000\n",
      ">epoch=90, lrate=0.010, error=997.000\n",
      ">epoch=91, lrate=0.010, error=992.000\n",
      ">epoch=92, lrate=0.010, error=992.000\n",
      ">epoch=93, lrate=0.010, error=992.000\n",
      ">epoch=94, lrate=0.010, error=993.000\n",
      ">epoch=95, lrate=0.010, error=991.000\n",
      ">epoch=96, lrate=0.010, error=986.000\n",
      ">epoch=97, lrate=0.010, error=986.000\n",
      ">epoch=98, lrate=0.010, error=982.000\n",
      ">epoch=99, lrate=0.010, error=984.000\n",
      ">epoch=100, lrate=0.010, error=980.000\n",
      ">epoch=101, lrate=0.010, error=983.000\n",
      ">epoch=102, lrate=0.010, error=977.000\n",
      ">epoch=103, lrate=0.010, error=982.000\n",
      ">epoch=104, lrate=0.010, error=982.000\n",
      ">epoch=105, lrate=0.010, error=980.000\n",
      ">epoch=106, lrate=0.010, error=978.000\n",
      ">epoch=107, lrate=0.010, error=975.000\n",
      ">epoch=108, lrate=0.010, error=973.000\n",
      ">epoch=109, lrate=0.010, error=976.000\n",
      ">epoch=110, lrate=0.010, error=981.000\n",
      ">epoch=111, lrate=0.010, error=983.000\n",
      ">epoch=112, lrate=0.010, error=983.000\n",
      ">epoch=113, lrate=0.010, error=984.000\n",
      ">epoch=114, lrate=0.010, error=978.000\n",
      ">epoch=115, lrate=0.010, error=983.000\n",
      ">epoch=116, lrate=0.010, error=986.000\n",
      ">epoch=117, lrate=0.010, error=986.000\n",
      ">epoch=118, lrate=0.010, error=984.000\n",
      ">epoch=119, lrate=0.010, error=988.000\n",
      ">epoch=120, lrate=0.010, error=987.000\n",
      ">epoch=121, lrate=0.010, error=978.000\n",
      ">epoch=122, lrate=0.010, error=974.000\n",
      ">epoch=123, lrate=0.010, error=980.000\n",
      ">epoch=124, lrate=0.010, error=971.000\n",
      ">epoch=125, lrate=0.010, error=971.000\n",
      ">epoch=126, lrate=0.010, error=967.000\n",
      ">epoch=127, lrate=0.010, error=965.000\n",
      ">epoch=128, lrate=0.010, error=966.000\n",
      ">epoch=129, lrate=0.010, error=962.000\n",
      ">epoch=130, lrate=0.010, error=960.000\n",
      ">epoch=131, lrate=0.010, error=962.000\n",
      ">epoch=132, lrate=0.010, error=956.000\n",
      ">epoch=133, lrate=0.010, error=958.000\n",
      ">epoch=134, lrate=0.010, error=956.000\n",
      ">epoch=135, lrate=0.010, error=951.000\n",
      ">epoch=136, lrate=0.010, error=944.000\n",
      ">epoch=137, lrate=0.010, error=943.000\n",
      ">epoch=138, lrate=0.010, error=937.000\n",
      ">epoch=139, lrate=0.010, error=936.000\n",
      ">epoch=140, lrate=0.010, error=932.000\n",
      ">epoch=141, lrate=0.010, error=929.000\n",
      ">epoch=142, lrate=0.010, error=921.000\n",
      ">epoch=143, lrate=0.010, error=916.000\n",
      ">epoch=144, lrate=0.010, error=913.000\n",
      ">epoch=145, lrate=0.010, error=909.000\n",
      ">epoch=146, lrate=0.010, error=903.000\n",
      ">epoch=147, lrate=0.010, error=901.000\n",
      ">epoch=148, lrate=0.010, error=901.000\n",
      ">epoch=149, lrate=0.010, error=897.000\n",
      ">epoch=150, lrate=0.010, error=895.000\n",
      ">epoch=151, lrate=0.010, error=891.000\n",
      ">epoch=152, lrate=0.010, error=888.000\n",
      ">epoch=153, lrate=0.010, error=886.000\n",
      ">epoch=154, lrate=0.010, error=880.000\n",
      ">epoch=155, lrate=0.010, error=879.000\n",
      ">epoch=156, lrate=0.010, error=877.000\n",
      ">epoch=157, lrate=0.010, error=874.000\n",
      ">epoch=158, lrate=0.010, error=872.000\n",
      ">epoch=159, lrate=0.010, error=872.000\n",
      ">epoch=160, lrate=0.010, error=869.000\n",
      ">epoch=161, lrate=0.010, error=868.000\n",
      ">epoch=162, lrate=0.010, error=868.000\n",
      ">epoch=163, lrate=0.010, error=866.000\n",
      ">epoch=164, lrate=0.010, error=865.000\n",
      ">epoch=165, lrate=0.010, error=865.000\n",
      ">epoch=166, lrate=0.010, error=864.000\n",
      ">epoch=167, lrate=0.010, error=862.000\n",
      ">epoch=168, lrate=0.010, error=861.000\n",
      ">epoch=169, lrate=0.010, error=862.000\n",
      ">epoch=170, lrate=0.010, error=862.000\n",
      ">epoch=171, lrate=0.010, error=862.000\n",
      ">epoch=172, lrate=0.010, error=862.000\n",
      ">epoch=173, lrate=0.010, error=859.000\n",
      ">epoch=174, lrate=0.010, error=855.000\n",
      ">epoch=175, lrate=0.010, error=854.000\n",
      ">epoch=176, lrate=0.010, error=854.000\n",
      ">epoch=177, lrate=0.010, error=849.000\n",
      ">epoch=178, lrate=0.010, error=849.000\n",
      ">epoch=179, lrate=0.010, error=850.000\n",
      ">epoch=180, lrate=0.010, error=849.000\n",
      ">epoch=181, lrate=0.010, error=849.000\n",
      ">epoch=182, lrate=0.010, error=848.000\n",
      ">epoch=183, lrate=0.010, error=845.000\n",
      ">epoch=184, lrate=0.010, error=845.000\n",
      ">epoch=185, lrate=0.010, error=844.000\n",
      ">epoch=186, lrate=0.010, error=845.000\n",
      ">epoch=187, lrate=0.010, error=844.000\n",
      ">epoch=188, lrate=0.010, error=842.000\n",
      ">epoch=189, lrate=0.010, error=841.000\n",
      ">epoch=190, lrate=0.010, error=840.000\n",
      ">epoch=191, lrate=0.010, error=839.000\n",
      ">epoch=192, lrate=0.010, error=840.000\n",
      ">epoch=193, lrate=0.010, error=842.000\n",
      ">epoch=194, lrate=0.010, error=840.000\n",
      ">epoch=195, lrate=0.010, error=838.000\n",
      ">epoch=196, lrate=0.010, error=835.000\n",
      ">epoch=197, lrate=0.010, error=835.000\n",
      ">epoch=198, lrate=0.010, error=836.000\n",
      ">epoch=199, lrate=0.010, error=836.000\n"
     ]
    }
   ],
   "source": [
    "np.random.seed(0)\n",
    "ann = ANN2(x_train.shape[1], int(2/3 * x_train.shape[1]) + 1, 1) # Should be number of columns in input x, number of neurons per hidden layer (arbitrary, and we only have one hidden layer rn), and number of possible outputs (binary classification = 2)\n",
    "\n",
    "print(\"Hidden Layer:\")\n",
    "for neuron in ann.network[0]:\n",
    "    print(len(neuron['weights']), neuron)\n",
    "\n",
    "print(\"\\nOutput Layer:\")\n",
    "for neuron in ann.network[1]:\n",
    "    print(len(neuron['weights']), neuron)\n",
    "\n",
    "losses = ann.train_network(x_train, y_train, l_rate=0.01, n_epoch=200)\n"
   ]
  },
  {
   "cell_type": "code",
   "execution_count": 6,
   "metadata": {},
   "outputs": [
    {
     "name": "stderr",
     "output_type": "stream",
     "text": [
      "No artists with labels found to put in legend.  Note that artists whose label start with an underscore are ignored when legend() is called with no argument.\n"
     ]
    },
    {
     "data": {
      "image/png": "[encoded data removed]",
      "text/plain": [
       "<Figure size 640x480 with 1 Axes>"
      ]
     },
     "metadata": {},
     "output_type": "display_data"
    }
   ],
   "source": [
    "losses = ann.get_losses()\n",
    "\n",
    "# Plot losses\n",
    "plt.plot(losses.keys(), losses.values())\n",
    "plt.xlabel('Epochs')\n",
    "plt.ylabel('Loss value')\n",
    "plt.legend()\n",
    "plt.show()"
   ]
  },
  {
   "cell_type": "code",
   "execution_count": 13,
   "metadata": {},
   "outputs": [
    {
     "name": "stdout",
     "output_type": "stream",
     "text": [
      "Confusion Matrix: \n",
      " [[1220   76]\n",
      " [ 121 1183]]\n",
      "\n",
      "\n",
      "Accuracy Score:  0.9242307692307692\n"
     ]
    }
   ],
   "source": [
    "from sklearn.metrics import accuracy_score, confusion_matrix\n",
    "\n",
    "y_pred = ann.predict(x_test)\n",
    "\n",
    "print(\"Confusion Matrix: \\n\", confusion_matrix(y_test, y_pred))\n",
    "print(\"\\n\\nAccuracy Score: \", accuracy_score(y_test, y_pred))"
   ]
  },
  {
   "cell_type": "code",
   "execution_count": 8,
   "metadata": {},
   "outputs": [
    {
     "name": "stdout",
     "output_type": "stream",
     "text": [
      "Confusion Matrix: \n",
      "[[1096  200]\n",
      " [ 250 1054]] \n",
      "\n",
      "Accuracy: 0.8269230769230769\n"
     ]
    }
   ],
   "source": [
    "from sklearn.linear_model import LogisticRegression\n",
    "\n",
    "\n",
    "lr = LogisticRegression(random_state=42)\n",
    "\n",
    "lr.fit(x_train, y_train)\n",
    "\n",
    "y_pred = lr.predict(x_test)\n",
    "\n",
    "cf = confusion_matrix(y_test, y_pred)\n",
    "acc = accuracy_score(y_test, y_pred)\n",
    "\n",
    "print(f\"Confusion Matrix: \\n{cf} \\n\\nAccuracy: {acc}\")"
   ]
  },
  {
   "cell_type": "markdown",
   "metadata": {},
   "source": [
    "#### Premade Dataset import"
   ]
  },
  {
   "cell_type": "code",
   "execution_count": 54,
   "metadata": {},
   "outputs": [
    {
     "name": "stdout",
     "output_type": "stream",
     "text": [
      "Type of x: <class 'numpy.ndarray'>\n",
      "Type of y: <class 'numpy.ndarray'>\n"
     ]
    }
   ],
   "source": [
    "df = pd.read_csv('dry_bean.csv', engine='pyarrow')\n",
    "x_uci = df.iloc[:, :-1].values\n",
    "y_uci = df.iloc[:, -1].values\n",
    "\n",
    "print(f\"Type of x: {type(x)}\")\n",
    "print(f\"Type of y: {type(y)}\")"
   ]
  },
  {
   "cell_type": "code",
   "execution_count": 55,
   "metadata": {},
   "outputs": [
    {
     "data": {
      "text/plain": [
       "DERMASON    3546\n",
       "SIRA        2636\n",
       "SEKER       2027\n",
       "HOROZ       1928\n",
       "CALI        1630\n",
       "BARBUNYA    1322\n",
       "BOMBAY       522\n",
       "Name: count, dtype: int64"
      ]
     },
     "execution_count": 55,
     "metadata": {},
     "output_type": "execute_result"
    }
   ],
   "source": [
    "pd.DataFrame(y_uci).value_counts()"
   ]
  },
  {
   "cell_type": "markdown",
   "metadata": {},
   "source": [
    "The target variable needs to be encoded"
   ]
  },
  {
   "cell_type": "code",
   "execution_count": 56,
   "metadata": {},
   "outputs": [
    {
     "data": {
      "text/plain": [
       "3    3546\n",
       "6    2636\n",
       "5    2027\n",
       "4    1928\n",
       "2    1630\n",
       "0    1322\n",
       "1     522\n",
       "Name: count, dtype: int64"
      ]
     },
     "execution_count": 56,
     "metadata": {},
     "output_type": "execute_result"
    }
   ],
   "source": [
    "from sklearn.preprocessing import LabelEncoder\n",
    "\n",
    "le = LabelEncoder()\n",
    "y_uci = le.fit_transform(y_uci)\n",
    "\n",
    "pd.DataFrame(y_uci).value_counts()"
   ]
  },
  {
   "cell_type": "code",
   "execution_count": 44,
   "metadata": {},
   "outputs": [
    {
     "name": "stdout",
     "output_type": "stream",
     "text": [
      "Group 1: [3546, 1928, 1322] Sum:  6796\n",
      "Group 2: [2636, 2027, 1630, 522] Sum:  6815\n"
     ]
    }
   ],
   "source": [
    "numbers = [3546, 2636, 2027, 1928, 1630, 1322, 522]\n",
    "numbers.sort(reverse=True)\n",
    "\n",
    "group1 = []\n",
    "group2 = []\n",
    "\n",
    "for num in numbers:\n",
    "    if sum(group1) <= sum(group2):\n",
    "        group1.append(num)\n",
    "    else:\n",
    "        group2.append(num)\n",
    "\n",
    "print(\"Group 1:\", group1, \"Sum: \", sum(group1))\n",
    "print(\"Group 2:\", group2, \"Sum: \", sum(group2))\n"
   ]
  },
  {
   "cell_type": "markdown",
   "metadata": {},
   "source": [
    "The ANN was built with binary classification in mind, so we will group the types of outputs to reduce it to two classes <br>\n",
    "Classes 3, 4, 0 will be changed to new_class 0 <br>\n",
    "Classes 1, 2, 5, 6 will be changed to new_class 1"
   ]
  },
  {
   "cell_type": "code",
   "execution_count": 58,
   "metadata": {},
   "outputs": [
    {
     "data": {
      "text/plain": [
       "1    6815\n",
       "0    6796\n",
       "Name: count, dtype: int64"
      ]
     },
     "execution_count": 58,
     "metadata": {},
     "output_type": "execute_result"
    }
   ],
   "source": [
    "for i in range(len(y_uci)):\n",
    "    if y_uci[i] in [0, 3, 4]:\n",
    "        y_uci[i] = 0\n",
    "    else:\n",
    "        y_uci[i] = 1\n",
    "    \n",
    "pd.DataFrame(y_uci).value_counts()"
   ]
  },
  {
   "cell_type": "markdown",
   "metadata": {},
   "source": [
    "Next, Standard Scaler"
   ]
  },
  {
   "cell_type": "code",
   "execution_count": 61,
   "metadata": {},
   "outputs": [],
   "source": [
    "# Standard scaling on x_uci\n",
    "from sklearn.preprocessing import StandardScaler\n",
    "\n",
    "scaler = StandardScaler()\n",
    "x_uci = scaler.fit_transform(x_uci)"
   ]
  },
  {
   "cell_type": "code",
   "execution_count": 62,
   "metadata": {},
   "outputs": [
    {
     "name": "stdout",
     "output_type": "stream",
     "text": [
      "Type of x_train: <class 'numpy.ndarray'>\n",
      "Type of y_train: <class 'numpy.ndarray'>\n",
      "Type of x_test: <class 'numpy.ndarray'>\n",
      "Type of y_test: <class 'numpy.ndarray'>\n"
     ]
    }
   ],
   "source": [
    "n_samples = x_uci.shape[0]\n",
    "n_features = x_uci.shape[1]\n",
    "n_classes = 2\n",
    "\n",
    "x_train, x_test, y_train, y_test = train_test_split(x_uci, y_uci, test_size=0.2, random_state=42)\n",
    "\n",
    "print(f\"Type of x_train: {type(x_train)}\")\n",
    "print(f\"Type of y_train: {type(y_train)}\")\n",
    "print(f\"Type of x_test: {type(x_test)}\")\n",
    "print(f\"Type of y_test: {type(y_test)}\")"
   ]
  },
  {
   "cell_type": "code",
   "execution_count": 63,
   "metadata": {},
   "outputs": [
    {
     "name": "stdout",
     "output_type": "stream",
     "text": [
      "Hidden Layer:\n",
      "17 {'weights': [0.009762700785464956, 0.043037873274483884, 0.02055267521432877, 0.008976636599379376, -0.015269040132219053, 0.029178822613331212, -0.0124825577474615, 0.07835460015641596, 0.09273255210020587, -0.023311696234844456, 0.05834500761653291, 0.005778983950580893, 0.013608912218786462, 0.08511932765853222, -0.08579278836042262, -0.08257414005969187, -0.09595632051193487]}\n",
      "17 {'weights': [0.0665239691095876, 0.05563135018997009, 0.07400242964936385, 0.0957236684465528, 0.059831712843344736, -0.007704127549413631, 0.0561058352572911, -0.07634511482621337, 0.02798420426550477, -0.07132934251819073, 0.08893378340991678, 0.004369664350014332, -0.017067612001895285, -0.04708887757907461, 0.05484673788684333, -0.008769933556690285, 0.013686789773729696]}\n",
      "17 {'weights': [-0.09624203991272898, 0.023527099415175418, 0.02241914454448428, 0.02338679937495139, 0.08874961570292483, 0.03636405982069668, -0.028098419885242795, -0.012593609240131712, 0.03952623918545298, -0.08795490567414604, 0.03335334308913354, 0.03412757392363189, -0.05792348778523182, -0.07421474046902934, -0.036914329815163224, -0.027257845811475487, 0.014039354083575928]}\n",
      "17 {'weights': [-0.012279697307535933, 0.09767476761184524, -0.0795910378503944, -0.05822464878103306, -0.06773809642300074, 0.030621665093079675, -0.04934167949204358, -0.006737845428738745, -0.05111488159967945, -0.06820608327089606, -0.07792497176713897, 0.03126591789305469, -0.07236340973027724, -0.0606835276639893, -0.02625496586780718, 0.06419864596958702, -0.08057974484138775]}\n",
      "17 {'weights': [0.06758898149976078, -0.08078031842120739, 0.09529189300267915, -0.0062697596704596875, 0.09535221763806742, 0.020969103949009193, 0.047852715879660335, -0.09216244154913587, -0.04343860748471809, -0.07596068775736622, -0.04077196049557102, -0.0762544562091512, -0.036403364121204804, -0.017147401097066, -0.08717050073024313, 0.03849442387400398, 0.01332029084131503]}\n",
      "17 {'weights': [-0.04692210181211092, 0.0046496106933399395, -0.08121189784831168, 0.015189299111235857, 0.08585923951524282, -0.03628620950973527, 0.03348207599273634, -0.07364042751912157, 0.043265440823713114, -0.04211878141055978, -0.06336172759857664, 0.017302586962016628, -0.0959784907625013, 0.06578800584347264, -0.0990609047614906, 0.03556330735924601, -0.04599840536156703]}\n",
      "17 {'weights': [0.047038804424518965, 0.09243770902348766, -0.0502493712960084, 0.015231466883567385, 0.018408386254367803, 0.01445038115817468, -0.05538367347187634, 0.09054980230339701, -0.010574924276474523, 0.06928173449422556, 0.03989585506350085, -0.04051260982897327, 0.06275956394049545, -0.020698851830603077, 0.07622063942223231, 0.016254574527171745, 0.07634707237097058]}\n",
      "17 {'weights': [0.03850631801555318, 0.045050855963928105, 0.0002648763853404512, 0.09121672694464478, 0.028798039845927492, -0.015228990288364067, 0.021278642825584865, -0.0961613603381333, -0.039685036665090136, 0.03203470749853701, -0.04198447855791119, 0.023603085799768303, -0.014246259810846776, -0.07290518715550996, -0.04034353480879385, 0.013992982140252977, 0.018174552249634643]}\n",
      "17 {'weights': [0.014865049769915761, 0.030640163971426715, 0.030420654000337777, -0.013716312913205214, 0.07930931917021261, -0.02648762599042069, -0.012827014946874632, 0.07838467100313443, 0.06123879780921715, 0.04077771670807326, -0.07995462253753978, 0.08389652274893472, 0.04284825990982227, 0.09976940131357331, -0.07011033906840125, 0.07362521147364284, -0.06750141306472504]}\n",
      "17 {'weights': [0.023111912856768835, -0.0752360034301117, 0.06960164586444689, 0.06146379174500213, 0.01382014772291866, -0.018563340554800065, -0.0861666009089724, 0.03948575462891274, -0.009291463464386224, 0.044411119894069595, 0.07327646518572584, 0.09510430100057718, 0.0711606684785222, -0.09765718316299961, -0.02800438710432722, 0.045998112484811615, -0.06567406454771191]}\n",
      "17 {'weights': [0.004207321240825859, -0.08913240233214928, -0.06000069502071999, -0.09629564110787721, 0.058739540671484125, -0.05521506238792398, -0.03092966386061946, 0.08561625869311817, 0.040882880384706555, -0.09363221409373844, -0.06706116870041745, 0.0242956802999527, 0.015445717720833516, -0.052421435725098275, 0.08684279958495875, 0.0227931911931792, 0.007126560604991658]}\n",
      "\n",
      "Output Layer:\n",
      "12 {'weights': [-0.3510990260099719, -0.19686576753155338, -0.6568605049724379, -0.5619568315622989, -0.7691718761273656, -0.7951876935316302, 0.03880962898232698, -0.1864941254457836, -0.46049531052067616, -0.7498439092293444, -0.7202078700525678, -0.9361679236437368]}\n",
      ">epoch=0, lrate=0.010, error=3560.000\n",
      ">epoch=1, lrate=0.010, error=2515.000\n",
      ">epoch=2, lrate=0.010, error=2372.000\n",
      ">epoch=3, lrate=0.010, error=2241.000\n",
      ">epoch=4, lrate=0.010, error=2142.000\n",
      ">epoch=5, lrate=0.010, error=2055.000\n",
      ">epoch=6, lrate=0.010, error=2009.000\n",
      ">epoch=7, lrate=0.010, error=1961.000\n",
      ">epoch=8, lrate=0.010, error=1913.000\n",
      ">epoch=9, lrate=0.010, error=1861.000\n",
      ">epoch=10, lrate=0.010, error=1838.000\n",
      ">epoch=11, lrate=0.010, error=1802.000\n",
      ">epoch=12, lrate=0.010, error=1774.000\n",
      ">epoch=13, lrate=0.010, error=1744.000\n",
      ">epoch=14, lrate=0.010, error=1717.000\n",
      ">epoch=15, lrate=0.010, error=1686.000\n",
      ">epoch=16, lrate=0.010, error=1636.000\n",
      ">epoch=17, lrate=0.010, error=1602.000\n",
      ">epoch=18, lrate=0.010, error=1566.000\n",
      ">epoch=19, lrate=0.010, error=1522.000\n",
      ">epoch=20, lrate=0.010, error=1444.000\n",
      ">epoch=21, lrate=0.010, error=1374.000\n",
      ">epoch=22, lrate=0.010, error=1298.000\n",
      ">epoch=23, lrate=0.010, error=1221.000\n",
      ">epoch=24, lrate=0.010, error=1173.000\n",
      ">epoch=25, lrate=0.010, error=1098.000\n",
      ">epoch=26, lrate=0.010, error=1026.000\n",
      ">epoch=27, lrate=0.010, error=984.000\n",
      ">epoch=28, lrate=0.010, error=959.000\n",
      ">epoch=29, lrate=0.010, error=939.000\n",
      ">epoch=30, lrate=0.010, error=913.000\n",
      ">epoch=31, lrate=0.010, error=898.000\n",
      ">epoch=32, lrate=0.010, error=872.000\n",
      ">epoch=33, lrate=0.010, error=864.000\n",
      ">epoch=34, lrate=0.010, error=861.000\n",
      ">epoch=35, lrate=0.010, error=855.000\n",
      ">epoch=36, lrate=0.010, error=841.000\n",
      ">epoch=37, lrate=0.010, error=839.000\n",
      ">epoch=38, lrate=0.010, error=833.000\n",
      ">epoch=39, lrate=0.010, error=822.000\n",
      ">epoch=40, lrate=0.010, error=818.000\n",
      ">epoch=41, lrate=0.010, error=811.000\n",
      ">epoch=42, lrate=0.010, error=805.000\n",
      ">epoch=43, lrate=0.010, error=799.000\n",
      ">epoch=44, lrate=0.010, error=794.000\n",
      ">epoch=45, lrate=0.010, error=794.000\n",
      ">epoch=46, lrate=0.010, error=791.000\n",
      ">epoch=47, lrate=0.010, error=787.000\n",
      ">epoch=48, lrate=0.010, error=785.000\n",
      ">epoch=49, lrate=0.010, error=780.000\n",
      ">epoch=50, lrate=0.010, error=783.000\n",
      ">epoch=51, lrate=0.010, error=783.000\n",
      ">epoch=52, lrate=0.010, error=784.000\n",
      ">epoch=53, lrate=0.010, error=782.000\n",
      ">epoch=54, lrate=0.010, error=778.000\n",
      ">epoch=55, lrate=0.010, error=779.000\n",
      ">epoch=56, lrate=0.010, error=779.000\n",
      ">epoch=57, lrate=0.010, error=781.000\n",
      ">epoch=58, lrate=0.010, error=783.000\n",
      ">epoch=59, lrate=0.010, error=784.000\n",
      ">epoch=60, lrate=0.010, error=785.000\n",
      ">epoch=61, lrate=0.010, error=784.000\n",
      ">epoch=62, lrate=0.010, error=783.000\n",
      ">epoch=63, lrate=0.010, error=782.000\n",
      ">epoch=64, lrate=0.010, error=780.000\n",
      ">epoch=65, lrate=0.010, error=780.000\n",
      ">epoch=66, lrate=0.010, error=779.000\n",
      ">epoch=67, lrate=0.010, error=779.000\n",
      ">epoch=68, lrate=0.010, error=776.000\n",
      ">epoch=69, lrate=0.010, error=773.000\n",
      ">epoch=70, lrate=0.010, error=773.000\n",
      ">epoch=71, lrate=0.010, error=768.000\n",
      ">epoch=72, lrate=0.010, error=768.000\n",
      ">epoch=73, lrate=0.010, error=768.000\n",
      ">epoch=74, lrate=0.010, error=768.000\n",
      ">epoch=75, lrate=0.010, error=769.000\n",
      ">epoch=76, lrate=0.010, error=770.000\n",
      ">epoch=77, lrate=0.010, error=768.000\n",
      ">epoch=78, lrate=0.010, error=767.000\n",
      ">epoch=79, lrate=0.010, error=764.000\n",
      ">epoch=80, lrate=0.010, error=763.000\n",
      ">epoch=81, lrate=0.010, error=764.000\n",
      ">epoch=82, lrate=0.010, error=764.000\n",
      ">epoch=83, lrate=0.010, error=764.000\n",
      ">epoch=84, lrate=0.010, error=765.000\n",
      ">epoch=85, lrate=0.010, error=765.000\n",
      ">epoch=86, lrate=0.010, error=763.000\n",
      ">epoch=87, lrate=0.010, error=763.000\n",
      ">epoch=88, lrate=0.010, error=761.000\n",
      ">epoch=89, lrate=0.010, error=763.000\n",
      ">epoch=90, lrate=0.010, error=763.000\n",
      ">epoch=91, lrate=0.010, error=765.000\n",
      ">epoch=92, lrate=0.010, error=764.000\n",
      ">epoch=93, lrate=0.010, error=764.000\n",
      ">epoch=94, lrate=0.010, error=764.000\n",
      ">epoch=95, lrate=0.010, error=763.000\n",
      ">epoch=96, lrate=0.010, error=763.000\n",
      ">epoch=97, lrate=0.010, error=765.000\n",
      ">epoch=98, lrate=0.010, error=762.000\n",
      ">epoch=99, lrate=0.010, error=762.000\n",
      ">epoch=100, lrate=0.010, error=761.000\n",
      ">epoch=101, lrate=0.010, error=760.000\n",
      ">epoch=102, lrate=0.010, error=758.000\n",
      ">epoch=103, lrate=0.010, error=757.000\n",
      ">epoch=104, lrate=0.010, error=758.000\n",
      ">epoch=105, lrate=0.010, error=758.000\n",
      ">epoch=106, lrate=0.010, error=759.000\n",
      ">epoch=107, lrate=0.010, error=756.000\n",
      ">epoch=108, lrate=0.010, error=758.000\n",
      ">epoch=109, lrate=0.010, error=758.000\n",
      ">epoch=110, lrate=0.010, error=758.000\n",
      ">epoch=111, lrate=0.010, error=756.000\n",
      ">epoch=112, lrate=0.010, error=755.000\n",
      ">epoch=113, lrate=0.010, error=756.000\n",
      ">epoch=114, lrate=0.010, error=755.000\n",
      ">epoch=115, lrate=0.010, error=754.000\n",
      ">epoch=116, lrate=0.010, error=753.000\n",
      ">epoch=117, lrate=0.010, error=752.000\n",
      ">epoch=118, lrate=0.010, error=752.000\n",
      ">epoch=119, lrate=0.010, error=751.000\n",
      ">epoch=120, lrate=0.010, error=751.000\n",
      ">epoch=121, lrate=0.010, error=750.000\n",
      ">epoch=122, lrate=0.010, error=750.000\n",
      ">epoch=123, lrate=0.010, error=748.000\n",
      ">epoch=124, lrate=0.010, error=748.000\n",
      ">epoch=125, lrate=0.010, error=748.000\n",
      ">epoch=126, lrate=0.010, error=748.000\n",
      ">epoch=127, lrate=0.010, error=750.000\n",
      ">epoch=128, lrate=0.010, error=751.000\n",
      ">epoch=129, lrate=0.010, error=751.000\n",
      ">epoch=130, lrate=0.010, error=751.000\n",
      ">epoch=131, lrate=0.010, error=751.000\n",
      ">epoch=132, lrate=0.010, error=752.000\n",
      ">epoch=133, lrate=0.010, error=753.000\n",
      ">epoch=134, lrate=0.010, error=754.000\n",
      ">epoch=135, lrate=0.010, error=753.000\n",
      ">epoch=136, lrate=0.010, error=754.000\n",
      ">epoch=137, lrate=0.010, error=754.000\n",
      ">epoch=138, lrate=0.010, error=751.000\n",
      ">epoch=139, lrate=0.010, error=751.000\n",
      ">epoch=140, lrate=0.010, error=750.000\n",
      ">epoch=141, lrate=0.010, error=747.000\n",
      ">epoch=142, lrate=0.010, error=747.000\n",
      ">epoch=143, lrate=0.010, error=747.000\n",
      ">epoch=144, lrate=0.010, error=746.000\n",
      ">epoch=145, lrate=0.010, error=745.000\n",
      ">epoch=146, lrate=0.010, error=747.000\n",
      ">epoch=147, lrate=0.010, error=748.000\n",
      ">epoch=148, lrate=0.010, error=748.000\n",
      ">epoch=149, lrate=0.010, error=747.000\n",
      ">epoch=150, lrate=0.010, error=747.000\n",
      ">epoch=151, lrate=0.010, error=747.000\n",
      ">epoch=152, lrate=0.010, error=747.000\n",
      ">epoch=153, lrate=0.010, error=747.000\n",
      ">epoch=154, lrate=0.010, error=747.000\n",
      ">epoch=155, lrate=0.010, error=747.000\n",
      ">epoch=156, lrate=0.010, error=747.000\n",
      ">epoch=157, lrate=0.010, error=745.000\n",
      ">epoch=158, lrate=0.010, error=745.000\n",
      ">epoch=159, lrate=0.010, error=746.000\n",
      ">epoch=160, lrate=0.010, error=745.000\n",
      ">epoch=161, lrate=0.010, error=745.000\n",
      ">epoch=162, lrate=0.010, error=746.000\n",
      ">epoch=163, lrate=0.010, error=746.000\n",
      ">epoch=164, lrate=0.010, error=744.000\n",
      ">epoch=165, lrate=0.010, error=744.000\n",
      ">epoch=166, lrate=0.010, error=744.000\n",
      ">epoch=167, lrate=0.010, error=746.000\n",
      ">epoch=168, lrate=0.010, error=743.000\n",
      ">epoch=169, lrate=0.010, error=744.000\n",
      ">epoch=170, lrate=0.010, error=743.000\n",
      ">epoch=171, lrate=0.010, error=743.000\n",
      ">epoch=172, lrate=0.010, error=742.000\n",
      ">epoch=173, lrate=0.010, error=742.000\n",
      ">epoch=174, lrate=0.010, error=742.000\n",
      ">epoch=175, lrate=0.010, error=743.000\n",
      ">epoch=176, lrate=0.010, error=742.000\n",
      ">epoch=177, lrate=0.010, error=743.000\n",
      ">epoch=178, lrate=0.010, error=741.000\n",
      ">epoch=179, lrate=0.010, error=738.000\n",
      ">epoch=180, lrate=0.010, error=738.000\n",
      ">epoch=181, lrate=0.010, error=738.000\n",
      ">epoch=182, lrate=0.010, error=737.000\n",
      ">epoch=183, lrate=0.010, error=735.000\n",
      ">epoch=184, lrate=0.010, error=734.000\n",
      ">epoch=185, lrate=0.010, error=735.000\n",
      ">epoch=186, lrate=0.010, error=734.000\n",
      ">epoch=187, lrate=0.010, error=735.000\n",
      ">epoch=188, lrate=0.010, error=735.000\n",
      ">epoch=189, lrate=0.010, error=735.000\n",
      ">epoch=190, lrate=0.010, error=735.000\n",
      ">epoch=191, lrate=0.010, error=734.000\n",
      ">epoch=192, lrate=0.010, error=734.000\n",
      ">epoch=193, lrate=0.010, error=734.000\n",
      ">epoch=194, lrate=0.010, error=734.000\n",
      ">epoch=195, lrate=0.010, error=734.000\n",
      ">epoch=196, lrate=0.010, error=734.000\n",
      ">epoch=197, lrate=0.010, error=734.000\n",
      ">epoch=198, lrate=0.010, error=734.000\n",
      ">epoch=199, lrate=0.010, error=733.000\n"
     ]
    }
   ],
   "source": [
    "np.random.seed(0)\n",
    "ann = ANN2(x_train.shape[1], int(2/3 * x_train.shape[1]) + 1, 1) # Should be number of columns in input x, number of neurons per hidden layer (arbitrary, and we only have one hidden layer rn), and number of possible outputs (binary classification = 2)\n",
    "\n",
    "print(\"Hidden Layer:\")\n",
    "for neuron in ann.network[0]:\n",
    "    print(len(neuron['weights']), neuron)\n",
    "\n",
    "print(\"\\nOutput Layer:\")\n",
    "for neuron in ann.network[1]:\n",
    "    print(len(neuron['weights']), neuron)\n",
    "\n",
    "losses = ann.train_network(x_train, y_train, l_rate=0.01, n_epoch=200)"
   ]
  },
  {
   "cell_type": "code",
   "execution_count": 64,
   "metadata": {},
   "outputs": [
    {
     "name": "stderr",
     "output_type": "stream",
     "text": [
      "No artists with labels found to put in legend.  Note that artists whose label start with an underscore are ignored when legend() is called with no argument.\n"
     ]
    },
    {
     "data": {
      "image/png": "[encoded data removed]",
      "text/plain": [
       "<Figure size 640x480 with 1 Axes>"
      ]
     },
     "metadata": {},
     "output_type": "display_data"
    }
   ],
   "source": [
    "losses = ann.get_losses()\n",
    "\n",
    "# Plot losses\n",
    "plt.plot(losses.keys(), losses.values())\n",
    "plt.xlabel('Epochs')\n",
    "plt.ylabel('Loss value')\n",
    "plt.legend()\n",
    "plt.show()"
   ]
  },
  {
   "cell_type": "code",
   "execution_count": 65,
   "metadata": {},
   "outputs": [
    {
     "name": "stdout",
     "output_type": "stream",
     "text": [
      "Confusion Matrix: \n",
      " [[1248   92]\n",
      " [  83 1300]]\n",
      "\n",
      "\n",
      "Accuracy Score:  0.9357326478149101\n"
     ]
    }
   ],
   "source": [
    "from sklearn.metrics import accuracy_score, confusion_matrix\n",
    "\n",
    "y_pred = ann.predict(x_test)\n",
    "\n",
    "print(\"Confusion Matrix: \\n\", confusion_matrix(y_test, y_pred))\n",
    "print(\"\\n\\nAccuracy Score: \", accuracy_score(y_test, y_pred))"
   ]
  }
 ],
 "metadata": {
  "kernelspec": {
   "display_name": "MLlab",
   "language": "python",
   "name": "python3"
  },
  "language_info": {
   "codemirror_mode": {
    "name": "ipython",
    "version": 3
   },
   "file_extension": ".py",
   "mimetype": "text/x-python",
   "name": "python",
   "nbconvert_exporter": "python",
   "pygments_lexer": "ipython3",
   "version": "3.11.6"
  }
 },
 "nbformat": 4,
 "nbformat_minor": 2
}
